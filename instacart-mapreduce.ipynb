{
 "cells": [
  {
   "cell_type": "code",
   "execution_count": null,
   "id": "0d87f774",
   "metadata": {},
   "outputs": [],
   "source": [
    "import pandas as pd\n",
    "import numpy as np\n",
    "from itertools import combinations\n",
    "from collections import Counter\n",
    "import random"
   ]
  },
  {
   "cell_type": "code",
   "execution_count": null,
   "id": "708f8329",
   "metadata": {},
   "outputs": [],
   "source": [
    "def map_step_1(data, num_maps, support_thresh, item_set_size):\n",
    "    frequent_itemsets = {}\n",
    "    chunk_support_thresh = support_thresh / num_maps\n",
    "    \n",
    "    for basket in data:\n",
    "        basket_id, items_str = basket.split(':')\n",
    "        items = items_str.split(',')\n",
    "        \n",
    "        for itemset in combinations(items, item_set_size):\n",
    "            itemset = tuple(sorted(itemset))\n",
    "            \n",
    "            if itemset in frequent_itemsets:\n",
    "                frequent_itemsets[itemset] += 1\n",
    "            else:\n",
    "                frequent_itemsets[itemset] = 1\n",
    "                \n",
    "    filtered_frequent_itemsets = {}\n",
    "    for itemset, count in frequent_itemsets.items():\n",
    "        if count >= chunk_support_thresh:\n",
    "            filtered_frequent_itemsets[itemset] = count\n",
    "            \n",
    "    frequent_itemsets = filtered_frequent_itemsets\n",
    "    output = [(itemset, 1) for itemset in frequent_itemsets]\n",
    "    return output"
   ]
  },
  {
   "cell_type": "code",
   "execution_count": null,
   "id": "1a5df1e2",
   "metadata": {},
   "outputs": [],
   "source": [
    "def reduce_step_1(data):\n",
    "    itemset_counts = {}\n",
    "\n",
    "    for itemset, count in data:\n",
    "        if itemset in itemset_counts:\n",
    "            itemset_counts[itemset] += count\n",
    "        else:\n",
    "            itemset_counts[itemset] = count\n",
    "\n",
    "    frequent_itemsets = []\n",
    "    for itemset, count in itemset_counts.items():\n",
    "        if count >= 1:\n",
    "            frequent_itemsets.append(itemset)\n",
    "\n",
    "    return frequent_itemsets"
   ]
  },
  {
   "cell_type": "code",
   "execution_count": null,
   "id": "96775c0c",
   "metadata": {},
   "outputs": [],
   "source": [
    "def map_step_2(data, candidates):\n",
    "    frequent_itemsets = {}\n",
    "\n",
    "    for basket in data:\n",
    "        basket_id, items_str = basket.split(':')\n",
    "        items = items_str.split(',')\n",
    "\n",
    "        for candidate in candidates:\n",
    "            if set(candidate).issubset(items):\n",
    "                if candidate in frequent_itemsets:\n",
    "                    frequent_itemsets[candidate] += 1\n",
    "                else:\n",
    "                    frequent_itemsets[candidate] = 1\n",
    "\n",
    "    output = []\n",
    "    for candidate, count in frequent_itemsets.items():\n",
    "        output.append((candidate, count))\n",
    "    return output"
   ]
  },
  {
   "cell_type": "code",
   "execution_count": null,
   "id": "eec84f54",
   "metadata": {},
   "outputs": [],
   "source": [
    "def reduce_step_2(data, support_thresh):\n",
    "    frequent_itemsets = []\n",
    "    itemset_support = {}\n",
    "\n",
    "    for itemset, support in data:\n",
    "        if itemset in itemset_support:\n",
    "            itemset_support[itemset] += support\n",
    "        else:\n",
    "            itemset_support[itemset] = support\n",
    "\n",
    "    for itemset, total_support in itemset_support.items():\n",
    "        if total_support >= support_thresh:\n",
    "            frequent_itemsets.append(itemset)\n",
    "\n",
    "    return frequent_itemsets"
   ]
  }
 ],
 "metadata": {
  "kernelspec": {
   "display_name": "Python 3 (ipykernel)",
   "language": "python",
   "name": "python3"
  },
  "language_info": {
   "codemirror_mode": {
    "name": "ipython",
    "version": 3
   },
   "file_extension": ".py",
   "mimetype": "text/x-python",
   "name": "python",
   "nbconvert_exporter": "python",
   "pygments_lexer": "ipython3",
   "version": "3.11.4"
  }
 },
 "nbformat": 4,
 "nbformat_minor": 5
}
